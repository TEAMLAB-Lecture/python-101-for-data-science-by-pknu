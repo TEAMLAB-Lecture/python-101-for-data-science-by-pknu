{
 "cells": [
  {
   "cell_type": "markdown",
   "metadata": {},
   "source": [
    "## Reverse sentence"
   ]
  },
  {
   "cell_type": "code",
   "execution_count": 1,
   "metadata": {},
   "outputs": [
    {
     "name": "stdout",
     "output_type": "stream",
     "text": [
      "REVERSE #1  \n",
      "REVERSE #2  I\n",
      "REVERSE #1  I\n",
      "REVERSE #2   I\n",
      "REVERSE #1   I\n",
      "REVERSE #2  l I\n",
      "REVERSE #1  l I\n",
      "REVERSE #2  ol I\n",
      "REVERSE #1  ol I\n",
      "REVERSE #2  vol I\n",
      "REVERSE #1  vol I\n",
      "REVERSE #2  evol I\n",
      "REVERSE #1  evol I\n",
      "REVERSE #2   evol I\n",
      "REVERSE #1   evol I\n",
      "REVERSE #2  y evol I\n",
      "REVERSE #1  y evol I\n",
      "REVERSE #2  oy evol I\n",
      "REVERSE #1  oy evol I\n",
      "REVERSE #2  uoy evol I\n"
     ]
    }
   ],
   "source": [
    "sentence = \"I love you\"\n",
    "reverse_sen = \"\"\n",
    "\n",
    "for char in sentence:\n",
    "    print(\"REVERSE #1 \", reverse_sen)\n",
    "    reverse_sen = char + reverse_sen\n",
    "    print(\"REVERSE #2 \", reverse_sen)"
   ]
  },
  {
   "cell_type": "markdown",
   "metadata": {},
   "source": [
    "## Binary converter"
   ]
  },
  {
   "cell_type": "code",
   "execution_count": null,
   "metadata": {},
   "outputs": [],
   "source": [
    "decimal = int(input(\"십진수를 입력해주세요 : \"))\n",
    "result = \"\"\n",
    "\n",
    "while decimal > 0:\n",
    "    remainder = decimal % 2\n",
    "    decimal = decimal // 2\n",
    "    result = str(remainder) + result\n",
    "print(result)"
   ]
  }
 ],
 "metadata": {
  "kernelspec": {
   "display_name": "Python 3",
   "language": "python",
   "name": "python3"
  },
  "language_info": {
   "codemirror_mode": {
    "name": "ipython",
    "version": 3
   },
   "file_extension": ".py",
   "mimetype": "text/x-python",
   "name": "python",
   "nbconvert_exporter": "python",
   "pygments_lexer": "ipython3",
   "version": "3.8.5"
  }
 },
 "nbformat": 4,
 "nbformat_minor": 2
}
