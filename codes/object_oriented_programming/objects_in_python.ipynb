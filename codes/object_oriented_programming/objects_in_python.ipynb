{
 "cells": [
  {
   "cell_type": "code",
   "execution_count": 1,
   "metadata": {},
   "outputs": [],
   "source": [
    "class SoccerPlayer(object):\n",
    "    def __init__(self, name: str, position: str, back_number: int):\n",
    "        self.name = name\n",
    "        self.position = position\n",
    "        self.back_number = back_number\n",
    "\n",
    "    def __str__(self):\n",
    "        return \"Hello, My name is %s. My back number is %d\" % (\n",
    "            self.name,\n",
    "            self.back_number,\n",
    "        )\n",
    "\n",
    "    def __add__(self, other):\n",
    "        return self.name + other.name"
   ]
  },
  {
   "cell_type": "code",
   "execution_count": 2,
   "metadata": {},
   "outputs": [],
   "source": [
    "abc = SoccerPlayer(\"son\", \"FW\", 7)\n",
    "park = SoccerPlayer(\"park\", \"WF\", 13)"
   ]
  },
  {
   "cell_type": "code",
   "execution_count": 3,
   "metadata": {},
   "outputs": [
    {
     "data": {
      "text/plain": [
       "'sonpark'"
      ]
     },
     "execution_count": 3,
     "metadata": {},
     "output_type": "execute_result"
    }
   ],
   "source": [
    "abc + park"
   ]
  },
  {
   "cell_type": "code",
   "execution_count": 4,
   "metadata": {},
   "outputs": [],
   "source": [
    "abc = SoccerPlayer(\"son\", \"FW\", 7)\n",
    "park = SoccerPlayer(\"park\", \"WF\", 13)"
   ]
  },
  {
   "cell_type": "code",
   "execution_count": 5,
   "metadata": {},
   "outputs": [
    {
     "name": "stdout",
     "output_type": "stream",
     "text": [
      "Hello, My name is park. My back number is 13\n"
     ]
    }
   ],
   "source": [
    "print(park)"
   ]
  },
  {
   "cell_type": "code",
   "execution_count": 6,
   "metadata": {},
   "outputs": [],
   "source": [
    "class SoccerPlayer(object):\n",
    "    def __init__(self, name, position, back_number):\n",
    "        self.name = name\n",
    "        self.position = position\n",
    "        self.back_number = back_number\n",
    "\n",
    "    def change_back_number(self, new_number):\n",
    "        print(\"선수의 등번호를 변경합니다 : From %d to %d\" % (self.back_number, new_number))\n",
    "        self.back_number = new_number\n",
    "\n",
    "    def __str__(self):\n",
    "        return \"Hello, My name is %s. My back number is %d\" % (\n",
    "            self.name,\n",
    "            self.back_number,\n",
    "        )"
   ]
  },
  {
   "cell_type": "code",
   "execution_count": 7,
   "metadata": {},
   "outputs": [
    {
     "name": "stdout",
     "output_type": "stream",
     "text": [
      "Hello, My name is Jinhyun. My back number is 10\n"
     ]
    }
   ],
   "source": [
    "choi = SoccerPlayer(\"Jinhyun\", \"mf\", 10)\n",
    "print(choi)"
   ]
  },
  {
   "cell_type": "code",
   "execution_count": 8,
   "metadata": {},
   "outputs": [
    {
     "name": "stdout",
     "output_type": "stream",
     "text": [
      "선수의 등번호를 변경합니다 : From 10 to 7\n",
      "Hello, My name is Jinhyun. My back number is 7\n"
     ]
    }
   ],
   "source": [
    "choi.change_back_number(7)\n",
    "print(choi)"
   ]
  },
  {
   "cell_type": "code",
   "execution_count": 9,
   "metadata": {},
   "outputs": [
    {
     "name": "stdout",
     "output_type": "stream",
     "text": [
      "Hello, My name is Jinhyun. My back number is 20\n"
     ]
    }
   ],
   "source": [
    "choi.back_number = 20\n",
    "print(choi)"
   ]
  },
  {
   "cell_type": "code",
   "execution_count": 10,
   "metadata": {},
   "outputs": [
    {
     "data": {
      "text/plain": [
       "20"
      ]
     },
     "execution_count": 10,
     "metadata": {},
     "output_type": "execute_result"
    }
   ],
   "source": [
    "choi.back_number"
   ]
  }
 ],
 "metadata": {
  "kernelspec": {
   "display_name": "Python 3",
   "language": "python",
   "name": "python3"
  },
  "language_info": {
   "codemirror_mode": {
    "name": "ipython",
    "version": 3
   },
   "file_extension": ".py",
   "mimetype": "text/x-python",
   "name": "python",
   "nbconvert_exporter": "python",
   "pygments_lexer": "ipython3",
   "version": "3.8.5"
  }
 },
 "nbformat": 4,
 "nbformat_minor": 2
}
