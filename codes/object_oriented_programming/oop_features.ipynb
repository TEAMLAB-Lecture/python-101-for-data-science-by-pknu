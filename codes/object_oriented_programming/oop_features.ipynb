{
 "cells": [
  {
   "cell_type": "markdown",
   "metadata": {},
   "source": [
    "## Inheritance"
   ]
  },
  {
   "cell_type": "code",
   "execution_count": 1,
   "metadata": {},
   "outputs": [],
   "source": [
    "class Person(object):\n",
    "    def __init__(self, name, age):\n",
    "        self.name = name\n",
    "        self.age = age\n",
    "\n",
    "    def __str__(self):\n",
    "        return \"저의 이름은 {0} 입니다. 나이는 {1} 입니다\".format(self.name, self.age)"
   ]
  },
  {
   "cell_type": "code",
   "execution_count": 2,
   "metadata": {},
   "outputs": [],
   "source": [
    "class Korean(Person):\n",
    "    pass"
   ]
  },
  {
   "cell_type": "code",
   "execution_count": 3,
   "metadata": {},
   "outputs": [
    {
     "name": "stdout",
     "output_type": "stream",
     "text": [
      "저의 이름은 Sungchul 입니다. 나이는 35 입니다\n"
     ]
    }
   ],
   "source": [
    "first_korean = Korean(\"Sungchul\", 35)\n",
    "print(first_korean)"
   ]
  },
  {
   "cell_type": "code",
   "execution_count": 4,
   "metadata": {},
   "outputs": [],
   "source": [
    "class Person:  # 부모 클래스 Person 선언\n",
    "    def __init__(self, name, age, gender):\n",
    "        self.name = name  # 속성값 지정, 해당 변수가 클래스의 attribute임을 명확히하기 위해 self를 붙임\n",
    "        self.age = age\n",
    "        self.gender = gender\n",
    "\n",
    "    def about_me(self):  # Method 선언\n",
    "        print(\"저의 이름은 \", self.name, \"이구요, 제 나이는 \", str(self.age), \"살 입니다.\")\n",
    "\n",
    "    def __str__(self):\n",
    "        return \"저의 이름은 \", self.name, \"이구요, 제 나이는 \", str(self.age), \"살 입니다.\""
   ]
  },
  {
   "cell_type": "code",
   "execution_count": 5,
   "metadata": {},
   "outputs": [],
   "source": [
    "class Employee(Person):  # 부모 클래스 Person으로 부터 상속\n",
    "    def __init__(self, name, age, gender, salary, hire_date):\n",
    "        super().__init__(name, age, gender)  # 부모객체 사용\n",
    "        self.salary = salary\n",
    "        self.hire_date = hire_date  # 속성값 추가\n",
    "\n",
    "    def do_work(self):  # 새로운 메서드 추가\n",
    "        print(\"열심히 일을 합니다.\")\n",
    "\n",
    "    def about_me(self):  # 부모 클래스 함수 재정의\n",
    "        super().about_me()  # 부모 클래스 함수 사용\n",
    "        print(\"제 급여는 \", self.salary, \"원 이구요, 제 입사일은 \", self.hire_date, \" 입니다.\")"
   ]
  },
  {
   "cell_type": "code",
   "execution_count": 6,
   "metadata": {},
   "outputs": [
    {
     "name": "stdout",
     "output_type": "stream",
     "text": [
      "저의 이름은  John 이구요, 제 나이는  34 살 입니다.\n"
     ]
    }
   ],
   "source": [
    "myPerson = Person(\"John\", 34, \"Male\")\n",
    "myPerson.about_me()"
   ]
  },
  {
   "cell_type": "code",
   "execution_count": 7,
   "metadata": {},
   "outputs": [
    {
     "name": "stdout",
     "output_type": "stream",
     "text": [
      "저의 이름은  Daeho 이구요, 제 나이는  34 살 입니다.\n",
      "제 급여는  300000 원 이구요, 제 입사일은  2012/03/01  입니다.\n"
     ]
    }
   ],
   "source": [
    "myEmployee = Employee(\"Daeho\", 34, \"Male\", 300000, \"2012/03/01\")\n",
    "myEmployee.about_me()"
   ]
  },
  {
   "cell_type": "markdown",
   "metadata": {},
   "source": [
    "## Polymorphism"
   ]
  },
  {
   "cell_type": "code",
   "execution_count": 8,
   "metadata": {},
   "outputs": [],
   "source": [
    "class Animal:\n",
    "    def __init__(self, name):  # Constructor of the class\n",
    "        self.name = name\n",
    "\n",
    "    def talk(self):  # Abstract method, defined by convention only\n",
    "        raise NotImplementedError(\"Subclass must implement abstract method\")"
   ]
  },
  {
   "cell_type": "code",
   "execution_count": 9,
   "metadata": {},
   "outputs": [],
   "source": [
    "class Cat(Animal):\n",
    "    def talk(self):\n",
    "        return \"Meow!\"\n",
    "\n",
    "\n",
    "class Dog(Animal):\n",
    "    def talk(self):\n",
    "        return \"Woof! Woof!\""
   ]
  },
  {
   "cell_type": "code",
   "execution_count": 10,
   "metadata": {},
   "outputs": [
    {
     "name": "stdout",
     "output_type": "stream",
     "text": [
      "Missy: Meow!\n",
      "Mr. Mistoffelees: Meow!\n",
      "Lassie: Woof! Woof!\n"
     ]
    }
   ],
   "source": [
    "animals = [Cat(\"Missy\"), Cat(\"Mr. Mistoffelees\"), Dog(\"Lassie\")]\n",
    "\n",
    "for animal in animals:\n",
    "    print(animal.name + \": \" + animal.talk())"
   ]
  },
  {
   "cell_type": "markdown",
   "metadata": {},
   "source": [
    "## Visibility"
   ]
  },
  {
   "cell_type": "code",
   "execution_count": 11,
   "metadata": {},
   "outputs": [],
   "source": [
    "class Product(object):\n",
    "    pass"
   ]
  },
  {
   "cell_type": "code",
   "execution_count": 12,
   "metadata": {},
   "outputs": [],
   "source": [
    "class Inventory(object):\n",
    "    def __init__(self):\n",
    "        self.items = []\n",
    "        self.test = \"abc\"\n",
    "\n",
    "    def add_new_item(self, product):\n",
    "        if type(product) == Product:\n",
    "            self.items.append(product)\n",
    "            print(\"new item added\")\n",
    "        else:\n",
    "            raise ValueError(\"Invalid Item\")\n",
    "\n",
    "    def get_number_of_items(self):\n",
    "        return len(self.items)"
   ]
  },
  {
   "cell_type": "code",
   "execution_count": 13,
   "metadata": {},
   "outputs": [
    {
     "name": "stdout",
     "output_type": "stream",
     "text": [
      "new item added\n",
      "new item added\n"
     ]
    },
    {
     "data": {
      "text/plain": [
       "<__main__.Inventory at 0x1d516e56400>"
      ]
     },
     "execution_count": 13,
     "metadata": {},
     "output_type": "execute_result"
    }
   ],
   "source": [
    "my_inventory = Inventory()\n",
    "my_inventory.add_new_item(Product())\n",
    "my_inventory.add_new_item(Product())\n",
    "my_inventory"
   ]
  },
  {
   "cell_type": "code",
   "execution_count": 14,
   "metadata": {},
   "outputs": [],
   "source": [
    "my_inventory.items.append(\"abc\")"
   ]
  },
  {
   "cell_type": "code",
   "execution_count": 15,
   "metadata": {},
   "outputs": [
    {
     "data": {
      "text/plain": [
       "[<__main__.Product at 0x1d516e563d0>,\n",
       " <__main__.Product at 0x1d516e56130>,\n",
       " 'abc']"
      ]
     },
     "execution_count": 15,
     "metadata": {},
     "output_type": "execute_result"
    }
   ],
   "source": [
    "my_inventory.items"
   ]
  },
  {
   "cell_type": "code",
   "execution_count": 16,
   "metadata": {},
   "outputs": [],
   "source": [
    "class Inventory(object):\n",
    "    def __init__(self):\n",
    "        self.__items = []\n",
    "\n",
    "    def add_new_item(self, product):\n",
    "        if type(product) == Product:\n",
    "            self.__items.append(product)\n",
    "            print(\"new item added\")\n",
    "        else:\n",
    "            raise ValueError(\"Invalid Item\")\n",
    "\n",
    "    def get_number_of_items(self):\n",
    "        return len(self.__items)"
   ]
  },
  {
   "cell_type": "code",
   "execution_count": 17,
   "metadata": {},
   "outputs": [
    {
     "name": "stdout",
     "output_type": "stream",
     "text": [
      "new item added\n",
      "new item added\n"
     ]
    },
    {
     "data": {
      "text/plain": [
       "<__main__.Inventory at 0x1d516e56a00>"
      ]
     },
     "execution_count": 17,
     "metadata": {},
     "output_type": "execute_result"
    }
   ],
   "source": [
    "my_inventory = Inventory()\n",
    "my_inventory.add_new_item(Product())\n",
    "my_inventory.add_new_item(Product())\n",
    "my_inventory"
   ]
  },
  {
   "cell_type": "code",
   "execution_count": 18,
   "metadata": {},
   "outputs": [],
   "source": [
    "class Inventory(object):\n",
    "    def __init__(self):\n",
    "        self.__items = []\n",
    "\n",
    "    def add_new_item(self, product):\n",
    "        if type(product) == Product:\n",
    "            self.__items.append(product)\n",
    "            print(\"new item added\")\n",
    "        else:\n",
    "            raise ValueError(\"Invalid Item\")\n",
    "\n",
    "    def get_number_of_items(self):\n",
    "        return len(self.__items)\n",
    "\n",
    "    @property\n",
    "    def items(self):\n",
    "        return self.__items"
   ]
  },
  {
   "cell_type": "code",
   "execution_count": 19,
   "metadata": {},
   "outputs": [
    {
     "name": "stdout",
     "output_type": "stream",
     "text": [
      "new item added\n",
      "new item added\n"
     ]
    },
    {
     "data": {
      "text/plain": [
       "<__main__.Inventory at 0x1d516e5b9d0>"
      ]
     },
     "execution_count": 19,
     "metadata": {},
     "output_type": "execute_result"
    }
   ],
   "source": [
    "my_inventory = Inventory()\n",
    "my_inventory.add_new_item(Product())\n",
    "my_inventory.add_new_item(Product())\n",
    "my_inventory"
   ]
  },
  {
   "cell_type": "code",
   "execution_count": 20,
   "metadata": {},
   "outputs": [
    {
     "ename": "AttributeError",
     "evalue": "'Inventory' object has no attribute '__items'",
     "output_type": "error",
     "traceback": [
      "\u001b[1;31m---------------------------------------------------------------------------\u001b[0m",
      "\u001b[1;31mAttributeError\u001b[0m                            Traceback (most recent call last)",
      "\u001b[1;32m<ipython-input-20-11cc93e1f4f4>\u001b[0m in \u001b[0;36m<module>\u001b[1;34m\u001b[0m\n\u001b[1;32m----> 1\u001b[1;33m \u001b[0mmy_inventory\u001b[0m\u001b[1;33m.\u001b[0m\u001b[0m__items\u001b[0m\u001b[1;33m\u001b[0m\u001b[1;33m\u001b[0m\u001b[0m\n\u001b[0m",
      "\u001b[1;31mAttributeError\u001b[0m: 'Inventory' object has no attribute '__items'"
     ]
    }
   ],
   "source": [
    "my_inventory.__items"
   ]
  },
  {
   "cell_type": "code",
   "execution_count": 21,
   "metadata": {},
   "outputs": [],
   "source": [
    "my_inventory.items.append(\"a\")"
   ]
  }
 ],
 "metadata": {
  "kernelspec": {
   "display_name": "Python 3",
   "language": "python",
   "name": "python3"
  },
  "language_info": {
   "codemirror_mode": {
    "name": "ipython",
    "version": 3
   },
   "file_extension": ".py",
   "mimetype": "text/x-python",
   "name": "python",
   "nbconvert_exporter": "python",
   "pygments_lexer": "ipython3",
   "version": "3.8.5"
  }
 },
 "nbformat": 4,
 "nbformat_minor": 2
}
