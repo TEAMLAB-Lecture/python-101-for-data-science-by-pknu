{
 "cells": [
  {
   "cell_type": "code",
   "execution_count": 2,
   "metadata": {},
   "outputs": [
    {
     "data": {
      "image/png": "[encoded data removed]",
      "text/plain": [
       "<Figure size 432x288 with 1 Axes>"
      ]
     },
     "metadata": {
      "needs_background": "light"
     },
     "output_type": "display_data"
    }
   ],
   "source": [
    "import matplotlib.pyplot as plt\n",
    "\n",
    "plt.plot([1, 2, 3, 4])\n",
    "plt.ylabel(\"some numbers\")\n",
    "plt.show()"
   ]
  },
  {
   "cell_type": "code",
   "execution_count": null,
   "metadata": {},
   "outputs": [],
   "source": [
    "from tqdm import tqdm\n",
    "import time\n",
    "\n",
    "for i in tqdm(range(100000)):\n",
    "    if i % 1000 == 0:\n",
    "        time.sleep(1)"
   ]
  },
  {
   "cell_type": "code",
   "execution_count": 6,
   "metadata": {},
   "outputs": [
    {
     "name": "stderr",
     "output_type": "stream",
     "text": [
      "\n",
      "0it [00:00, ?it/s]\u001b[A\n",
      "1it [00:01,  1.00s/it]\u001b[A\n",
      "1001it [00:02,  1.43it/s]\u001b[A\n",
      "2001it [00:03,  2.04it/s]\u001b[A\n",
      "3001it [00:04,  2.91it/s]\u001b[A\n",
      "4001it [00:05,  4.15it/s]\u001b[A\n",
      "5001it [00:06,  5.92it/s]\u001b[A\n",
      "6001it [00:07,  8.43it/s]\u001b[A\n",
      "7001it [00:08, 12.00it/s]\u001b[A\n",
      "8001it [00:09, 17.06it/s]\u001b[A\n",
      "9001it [00:10, 24.20it/s]\u001b[A\n",
      "10001it [00:11, 34.21it/s]\u001b[A\n",
      "11001it [00:12, 48.16it/s]\u001b[A\n",
      "12001it [00:13, 67.41it/s]\u001b[A\n",
      "13001it [00:14, 93.59it/s]\u001b[A\n",
      "14001it [00:15, 128.50it/s]\u001b[A\n",
      "15001it [00:16, 173.96it/s]\u001b[A\n",
      "16001it [00:17, 231.23it/s]\u001b[A\n",
      "17001it [00:18, 300.24it/s]\u001b[A\n",
      "18001it [00:19, 379.57it/s]\u001b[A\n",
      "19001it [00:20, 466.23it/s]\u001b[A\n",
      "20001it [00:21, 554.93it/s]\u001b[A\n",
      "21001it [00:22, 639.72it/s]\u001b[A\n",
      "22001it [00:23, 716.86it/s]\u001b[A\n",
      "23001it [00:24, 781.91it/s]\u001b[A\n",
      "24001it [00:25, 836.22it/s]\u001b[A"
     ]
    },
    {
     "ename": "KeyboardInterrupt",
     "evalue": "",
     "output_type": "error",
     "traceback": [
      "\u001b[1;31m---------------------------------------------------------------------------\u001b[0m",
      "\u001b[1;31mKeyboardInterrupt\u001b[0m                         Traceback (most recent call last)",
      "\u001b[1;32m<ipython-input-6-c87a11e22518>\u001b[0m in \u001b[0;36m<module>\u001b[1;34m\u001b[0m\n\u001b[0;32m      1\u001b[0m \u001b[1;32mfor\u001b[0m \u001b[0mi\u001b[0m \u001b[1;32min\u001b[0m \u001b[0mtqdm\u001b[0m\u001b[1;33m(\u001b[0m\u001b[0miter\u001b[0m\u001b[1;33m(\u001b[0m\u001b[0mrange\u001b[0m\u001b[1;33m(\u001b[0m\u001b[1;36m100000\u001b[0m\u001b[1;33m)\u001b[0m\u001b[1;33m)\u001b[0m\u001b[1;33m)\u001b[0m\u001b[1;33m:\u001b[0m\u001b[1;33m\u001b[0m\u001b[1;33m\u001b[0m\u001b[0m\n\u001b[0;32m      2\u001b[0m     \u001b[1;32mif\u001b[0m \u001b[0mi\u001b[0m \u001b[1;33m%\u001b[0m \u001b[1;36m1000\u001b[0m \u001b[1;33m==\u001b[0m \u001b[1;36m0\u001b[0m\u001b[1;33m:\u001b[0m\u001b[1;33m\u001b[0m\u001b[1;33m\u001b[0m\u001b[0m\n\u001b[1;32m----> 3\u001b[1;33m         \u001b[0mtime\u001b[0m\u001b[1;33m.\u001b[0m\u001b[0msleep\u001b[0m\u001b[1;33m(\u001b[0m\u001b[1;36m1\u001b[0m\u001b[1;33m)\u001b[0m\u001b[1;33m\u001b[0m\u001b[1;33m\u001b[0m\u001b[0m\n\u001b[0m",
      "\u001b[1;31mKeyboardInterrupt\u001b[0m: "
     ]
    }
   ],
   "source": [
    "for i in tqdm(iter(range(100000))):\n",
    "    if i % 1000 == 0:\n",
    "        time.sleep(1)"
   ]
  }
 ],
 "metadata": {
  "kernelspec": {
   "display_name": "Python 3",
   "language": "python",
   "name": "python3"
  },
  "language_info": {
   "codemirror_mode": {
    "name": "ipython",
    "version": 3
   },
   "file_extension": ".py",
   "mimetype": "text/x-python",
   "name": "python",
   "nbconvert_exporter": "python",
   "pygments_lexer": "ipython3",
   "version": "3.7.6"
  }
 },
 "nbformat": 4,
 "nbformat_minor": 2
}
